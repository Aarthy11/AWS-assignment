{
  "nbformat": 4,
  "nbformat_minor": 0,
  "metadata": {
    "colab": {
      "provenance": [],
      "authorship_tag": "ABX9TyNtRea/pH2SBJ6s7AUTNrwE",
      "include_colab_link": true
    },
    "kernelspec": {
      "name": "python3",
      "display_name": "Python 3"
    },
    "language_info": {
      "name": "python"
    }
  },
  "cells": [
    {
      "cell_type": "markdown",
      "metadata": {
        "id": "view-in-github",
        "colab_type": "text"
      },
      "source": [
        "<a href=\"https://colab.research.google.com/github/Aarthy11/AWS-assignment/blob/main/assignment_4.ipynb\" target=\"_parent\"><img src=\"https://colab.research.google.com/assets/colab-badge.svg\" alt=\"Open In Colab\"/></a>"
      ]
    },
    {
      "cell_type": "code",
      "execution_count": 1,
      "metadata": {
        "colab": {
          "base_uri": "https://localhost:8080/"
        },
        "id": "ypZTnfqWE6Ub",
        "outputId": "4fb14f1e-7879-42fe-aa91-71d9b95f5c41"
      },
      "outputs": [
        {
          "output_type": "stream",
          "name": "stdout",
          "text": [
            "Upper case: GEETHA\n",
            "Lower case: geetha\n",
            "Capitalized: Geetha\n",
            "Replaced: GEEtha\n"
          ]
        }
      ],
      "source": [
        "# Define a string\n",
        "name = \"Geetha\"\n",
        "# Convert to upper case\n",
        "upper_case = name.upper()\n",
        "print(\"Upper case:\", upper_case)\n",
        "\n",
        "# Convert to lower case\n",
        "lower_case = name.lower()\n",
        "print(\"Lower case:\", lower_case)\n",
        "\n",
        "# Capitalize the string\n",
        "capitalized = name.capitalize()\n",
        "print(\"Capitalized:\", capitalized)\n",
        "\n",
        "# Replace 'e' with 'E'\n",
        "replaced = name.replace('e', 'E')\n",
        "print(\"Replaced:\", replaced)"
      ]
    },
    {
      "cell_type": "code",
      "source": [
        "# Define a list\n",
        "L = [1, 2, 3]\n",
        "\n",
        "# Extend the list\n",
        "L.extend([5, 6, 7])\n",
        "\n",
        "# Remove the 5th value\n",
        "del L[4]\n",
        "\n",
        "print(\"Extended list:\", L)"
      ],
      "metadata": {
        "colab": {
          "base_uri": "https://localhost:8080/"
        },
        "id": "4NbhXLnzFIWe",
        "outputId": "9f07d26d-cbaf-4ed2-b464-53d05065a3ae"
      },
      "execution_count": 2,
      "outputs": [
        {
          "output_type": "stream",
          "name": "stdout",
          "text": [
            "Extended list: [1, 2, 3, 5, 7]\n"
          ]
        }
      ]
    },
    {
      "cell_type": "code",
      "source": [
        "# Define a dictionary\n",
        "d = {'mango': 10, 'banana': 0, 'apple': 15, 'orange': 0, 'pineapple': 20}\n",
        "\n",
        "# Remove out of stock fruits (value == 0)\n",
        "out_of_stock = [key for key, value in d.items() if value == 0]\n",
        "for fruit in out_of_stock:\n",
        "    del d[fruit]\n",
        "\n",
        "# Update mango quantity to 15 and decrease pineapple by 5\n",
        "d['mango'] = 15\n",
        "d['pineapple'] -= 5\n",
        "\n",
        "print(\"Updated dictionary:\", d)"
      ],
      "metadata": {
        "colab": {
          "base_uri": "https://localhost:8080/"
        },
        "id": "LU0B69ZFFM46",
        "outputId": "2bb72574-9565-4e8e-a940-7eddc6aebb30"
      },
      "execution_count": 3,
      "outputs": [
        {
          "output_type": "stream",
          "name": "stdout",
          "text": [
            "Updated dictionary: {'mango': 15, 'apple': 15, 'pineapple': 15}\n"
          ]
        }
      ]
    },
    {
      "cell_type": "code",
      "source": [
        "# Given list\n",
        "a = [2, 4, 6, 8, 10]\n",
        "\n",
        "# Problem 1\n",
        "a += [12, 14, 16, 18]\n",
        "print(a)"
      ],
      "metadata": {
        "colab": {
          "base_uri": "https://localhost:8080/"
        },
        "id": "MpJ_bjjfFQpi",
        "outputId": "88c6dd5b-1a88-4461-dfa9-e06b3886db2e"
      },
      "execution_count": 4,
      "outputs": [
        {
          "output_type": "stream",
          "name": "stdout",
          "text": [
            "[2, 4, 6, 8, 10, 12, 14, 16, 18]\n"
          ]
        }
      ]
    },
    {
      "cell_type": "code",
      "source": [
        "# Given list\n",
        "a = [2, 4, 6, 8, 10]\n",
        "\n",
        "# Problem 2\n",
        "a += [12, 14, 16, 18]\n",
        "print(a)"
      ],
      "metadata": {
        "colab": {
          "base_uri": "https://localhost:8080/"
        },
        "id": "0W4z3v2cFT4n",
        "outputId": "8fd05a77-b60b-4782-a74f-5cfaa33109fc"
      },
      "execution_count": 5,
      "outputs": [
        {
          "output_type": "stream",
          "name": "stdout",
          "text": [
            "[2, 4, 6, 8, 10, 12, 14, 16, 18]\n"
          ]
        }
      ]
    },
    {
      "cell_type": "code",
      "source": [
        "# Problem 3\n",
        "a[:] = [2, 3, 4, 5, 6, 7, 8, 10]\n",
        "print(a)"
      ],
      "metadata": {
        "colab": {
          "base_uri": "https://localhost:8080/"
        },
        "id": "gWwPd05tFWoY",
        "outputId": "6c68062f-d9b8-49dc-a814-9bd8b43db4d1"
      },
      "execution_count": 6,
      "outputs": [
        {
          "output_type": "stream",
          "name": "stdout",
          "text": [
            "[2, 3, 4, 5, 6, 7, 8, 10]\n"
          ]
        }
      ]
    },
    {
      "cell_type": "code",
      "source": [
        "# Problem 4\n",
        "a[3:3] = ['a', 'b', 'c']\n",
        "print(a)"
      ],
      "metadata": {
        "colab": {
          "base_uri": "https://localhost:8080/"
        },
        "id": "0SF8hcBnFZ_l",
        "outputId": "78b2390d-4771-48fd-99ef-572634fb86e0"
      },
      "execution_count": 7,
      "outputs": [
        {
          "output_type": "stream",
          "name": "stdout",
          "text": [
            "[2, 3, 4, 'a', 'b', 'c', 5, 6, 7, 8, 10]\n"
          ]
        }
      ]
    },
    {
      "cell_type": "code",
      "source": [
        "# Problem 5\n",
        "a = a\n",
        "print(a)"
      ],
      "metadata": {
        "colab": {
          "base_uri": "https://localhost:8080/"
        },
        "id": "n_TIEtDmFmDb",
        "outputId": "ce7ffde8-8093-4958-b442-d9a82831bdac"
      },
      "execution_count": 8,
      "outputs": [
        {
          "output_type": "stream",
          "name": "stdout",
          "text": [
            "[2, 3, 4, 'a', 'b', 'c', 5, 6, 7, 8, 10]\n"
          ]
        }
      ]
    },
    {
      "cell_type": "code",
      "source": [
        "# Problem 6\n",
        "a[0:0] = []\n",
        "print(a[0:0])"
      ],
      "metadata": {
        "colab": {
          "base_uri": "https://localhost:8080/"
        },
        "id": "N38RCMx_FovH",
        "outputId": "7e1a0ae1-e9a6-4309-f8dd-0fb69e32771c"
      },
      "execution_count": 9,
      "outputs": [
        {
          "output_type": "stream",
          "name": "stdout",
          "text": [
            "[]\n"
          ]
        }
      ]
    },
    {
      "cell_type": "code",
      "source": [
        "# Problem 7\n",
        "print(a[::-1])"
      ],
      "metadata": {
        "colab": {
          "base_uri": "https://localhost:8080/"
        },
        "id": "tKkP3M9TFrOX",
        "outputId": "aaa1a954-1d53-4fc9-b87d-6aba5095d0e8"
      },
      "execution_count": 10,
      "outputs": [
        {
          "output_type": "stream",
          "name": "stdout",
          "text": [
            "[10, 8, 7, 6, 5, 'c', 'b', 'a', 4, 3, 2]\n"
          ]
        }
      ]
    },
    {
      "cell_type": "code",
      "source": [
        "# Problem 8\n",
        "print(a[0:3])"
      ],
      "metadata": {
        "colab": {
          "base_uri": "https://localhost:8080/"
        },
        "id": "2pDPVYCvFxRH",
        "outputId": "4b5fa0c3-5b6d-4c0e-f291-82f084fc4cdb"
      },
      "execution_count": 11,
      "outputs": [
        {
          "output_type": "stream",
          "name": "stdout",
          "text": [
            "[2, 3, 4]\n"
          ]
        }
      ]
    },
    {
      "cell_type": "code",
      "source": [
        "# Problem 9\n",
        "print(a[2:])"
      ],
      "metadata": {
        "colab": {
          "base_uri": "https://localhost:8080/"
        },
        "id": "PvW9sVtbFyDY",
        "outputId": "4f1637f7-02ac-4ff7-85ec-adcd9e22760c"
      },
      "execution_count": 12,
      "outputs": [
        {
          "output_type": "stream",
          "name": "stdout",
          "text": [
            "[4, 'a', 'b', 'c', 5, 6, 7, 8, 10]\n"
          ]
        }
      ]
    },
    {
      "cell_type": "code",
      "source": [
        "# Problem 10\n",
        "a[1:4] = []\n",
        "print(a)"
      ],
      "metadata": {
        "colab": {
          "base_uri": "https://localhost:8080/"
        },
        "id": "Zb_3GTXJF0nd",
        "outputId": "b9eb1a53-4e97-498f-9e95-050cf05e0687"
      },
      "execution_count": 13,
      "outputs": [
        {
          "output_type": "stream",
          "name": "stdout",
          "text": [
            "[2, 'b', 'c', 5, 6, 7, 8, 10]\n"
          ]
        }
      ]
    },
    {
      "cell_type": "code",
      "source": [
        "# Problem 11\n",
        "print(a[1:4])"
      ],
      "metadata": {
        "colab": {
          "base_uri": "https://localhost:8080/"
        },
        "id": "jHB_lCzVF3ae",
        "outputId": "719382fb-e7ef-4bb2-fdab-5d6731c537c6"
      },
      "execution_count": 14,
      "outputs": [
        {
          "output_type": "stream",
          "name": "stdout",
          "text": [
            "['b', 'c', 5]\n"
          ]
        }
      ]
    },
    {
      "cell_type": "code",
      "source": [
        "# Problem 12\n",
        "a[-1:] = a[1:] + [12, 14, 16, 18, 20]\n",
        "print(a)"
      ],
      "metadata": {
        "colab": {
          "base_uri": "https://localhost:8080/"
        },
        "id": "2XH9YO9DF60W",
        "outputId": "508ddd25-8f56-43c2-a478-3a45fe2a7693"
      },
      "execution_count": 15,
      "outputs": [
        {
          "output_type": "stream",
          "name": "stdout",
          "text": [
            "[2, 'b', 'c', 5, 6, 7, 8, 'b', 'c', 5, 6, 7, 8, 10, 12, 14, 16, 18, 20]\n"
          ]
        }
      ]
    }
  ]
}